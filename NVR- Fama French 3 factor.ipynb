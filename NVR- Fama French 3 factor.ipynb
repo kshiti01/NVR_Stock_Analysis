{
 "cells": [
  {
   "cell_type": "code",
   "execution_count": 3,
   "id": "667fcfc0",
   "metadata": {},
   "outputs": [],
   "source": [
    "import getFamaFrenchFactors as gff"
   ]
  },
  {
   "cell_type": "code",
   "execution_count": 2,
   "id": "6952d561",
   "metadata": {},
   "outputs": [
    {
     "name": "stdout",
     "output_type": "stream",
     "text": [
      "Collecting getFamaFrenchFactors\n",
      "  Downloading getFamaFrenchFactors-0.0.5-py3-none-any.whl (4.6 kB)\n",
      "Requirement already satisfied: pandas in c:\\users\\kshit\\anaconda3\\lib\\site-packages (from getFamaFrenchFactors) (1.4.2)\n",
      "Collecting bs4\n",
      "  Downloading bs4-0.0.1.tar.gz (1.1 kB)\n",
      "Requirement already satisfied: requests in c:\\users\\kshit\\anaconda3\\lib\\site-packages (from getFamaFrenchFactors) (2.27.1)\n",
      "Requirement already satisfied: beautifulsoup4 in c:\\users\\kshit\\anaconda3\\lib\\site-packages (from bs4->getFamaFrenchFactors) (4.11.1)\n",
      "Requirement already satisfied: soupsieve>1.2 in c:\\users\\kshit\\anaconda3\\lib\\site-packages (from beautifulsoup4->bs4->getFamaFrenchFactors) (2.3.1)\n",
      "Requirement already satisfied: python-dateutil>=2.8.1 in c:\\users\\kshit\\anaconda3\\lib\\site-packages (from pandas->getFamaFrenchFactors) (2.8.2)\n",
      "Requirement already satisfied: numpy>=1.18.5 in c:\\users\\kshit\\anaconda3\\lib\\site-packages (from pandas->getFamaFrenchFactors) (1.21.5)\n",
      "Requirement already satisfied: pytz>=2020.1 in c:\\users\\kshit\\anaconda3\\lib\\site-packages (from pandas->getFamaFrenchFactors) (2021.3)\n",
      "Requirement already satisfied: six>=1.5 in c:\\users\\kshit\\anaconda3\\lib\\site-packages (from python-dateutil>=2.8.1->pandas->getFamaFrenchFactors) (1.16.0)\n",
      "Requirement already satisfied: idna<4,>=2.5 in c:\\users\\kshit\\anaconda3\\lib\\site-packages (from requests->getFamaFrenchFactors) (3.3)\n",
      "Requirement already satisfied: charset-normalizer~=2.0.0 in c:\\users\\kshit\\anaconda3\\lib\\site-packages (from requests->getFamaFrenchFactors) (2.0.4)\n",
      "Requirement already satisfied: certifi>=2017.4.17 in c:\\users\\kshit\\anaconda3\\lib\\site-packages (from requests->getFamaFrenchFactors) (2021.10.8)\n",
      "Requirement already satisfied: urllib3<1.27,>=1.21.1 in c:\\users\\kshit\\anaconda3\\lib\\site-packages (from requests->getFamaFrenchFactors) (1.26.9)\n",
      "Building wheels for collected packages: bs4\n",
      "  Building wheel for bs4 (setup.py): started\n",
      "  Building wheel for bs4 (setup.py): finished with status 'done'\n",
      "  Created wheel for bs4: filename=bs4-0.0.1-py3-none-any.whl size=1272 sha256=7a72c1c5ecad897184e63ef832d69db3b28e5d880998d6afad3459f2b8d5d026\n",
      "  Stored in directory: c:\\users\\kshit\\appdata\\local\\pip\\cache\\wheels\\73\\2b\\cb\\099980278a0c9a3e57ff1a89875ec07bfa0b6fcbebb9a8cad3\n",
      "Successfully built bs4\n",
      "Installing collected packages: bs4, getFamaFrenchFactors\n",
      "Successfully installed bs4-0.0.1 getFamaFrenchFactors-0.0.5\n",
      "Note: you may need to restart the kernel to use updated packages.\n"
     ]
    }
   ],
   "source": [
    "pip install getFamaFrenchFactors\n"
   ]
  },
  {
   "cell_type": "code",
   "execution_count": 6,
   "id": "635b8446",
   "metadata": {},
   "outputs": [],
   "source": []
  },
  {
   "cell_type": "code",
   "execution_count": null,
   "id": "88642139",
   "metadata": {},
   "outputs": [],
   "source": []
  },
  {
   "cell_type": "code",
   "execution_count": 1,
   "id": "65d7fb5e",
   "metadata": {},
   "outputs": [
    {
     "name": "stdout",
     "output_type": "stream",
     "text": [
      "[*********************100%***********************]  1 of 1 completed\n",
      "                            OLS Regression Results                            \n",
      "==============================================================================\n",
      "Dep. Variable:                      y   R-squared:                       0.333\n",
      "Model:                            OLS   Adj. R-squared:                  0.297\n",
      "Method:                 Least Squares   F-statistic:                     9.149\n",
      "Date:                Wed, 29 Jun 2022   Prob (F-statistic):           5.23e-05\n",
      "Time:                        21:14:45   Log-Likelihood:                 78.517\n",
      "No. Observations:                  59   AIC:                            -149.0\n",
      "Df Residuals:                      55   BIC:                            -140.7\n",
      "Df Model:                           3                                         \n",
      "Covariance Type:            nonrobust                                         \n",
      "==============================================================================\n",
      "                 coef    std err          t      P>|t|      [0.025      0.975]\n",
      "------------------------------------------------------------------------------\n",
      "const          0.0111      0.009      1.195      0.237      -0.008       0.030\n",
      "Mkt-RF         0.9218      0.196      4.693      0.000       0.528       1.315\n",
      "SMB           -0.1889      0.343     -0.552      0.583      -0.875       0.497\n",
      "HML            0.3177      0.245      1.297      0.200      -0.173       0.808\n",
      "==============================================================================\n",
      "Omnibus:                        0.431   Durbin-Watson:                   1.762\n",
      "Prob(Omnibus):                  0.806   Jarque-Bera (JB):                0.390\n",
      "Skew:                          -0.187   Prob(JB):                        0.823\n",
      "Kurtosis:                       2.863   Cond. No.                         40.7\n",
      "==============================================================================\n",
      "\n",
      "Notes:\n",
      "[1] Standard Errors assume that the covariance matrix of the errors is correctly specified.\n",
      "Expected yearly return: 0.09473237716747816\n",
      "Expected monthly return: 0.007894364763956514\n"
     ]
    },
    {
     "ename": "NameError",
     "evalue": "name 'LinearRegression' is not defined",
     "output_type": "error",
     "traceback": [
      "\u001b[1;31m---------------------------------------------------------------------------\u001b[0m",
      "\u001b[1;31mNameError\u001b[0m                                 Traceback (most recent call last)",
      "Input \u001b[1;32mIn [1]\u001b[0m, in \u001b[0;36m<cell line: 45>\u001b[1;34m()\u001b[0m\n\u001b[0;32m     42\u001b[0m \u001b[38;5;28mprint\u001b[39m(\u001b[38;5;124m\"\u001b[39m\u001b[38;5;124mExpected yearly return: \u001b[39m\u001b[38;5;124m\"\u001b[39m \u001b[38;5;241m+\u001b[39m \u001b[38;5;28mstr\u001b[39m(expected_yearly_return))\n\u001b[0;32m     43\u001b[0m \u001b[38;5;28mprint\u001b[39m(\u001b[38;5;124m\"\u001b[39m\u001b[38;5;124mExpected monthly return: \u001b[39m\u001b[38;5;124m\"\u001b[39m \u001b[38;5;241m+\u001b[39m \u001b[38;5;28mstr\u001b[39m(expected_monthly_return))\n\u001b[1;32m---> 45\u001b[0m ff_model\u001b[38;5;241m=\u001b[39m\u001b[43mLinearRegression\u001b[49m()\n\u001b[0;32m     46\u001b[0m lin_mo\u001b[38;5;241m=\u001b[39mff_model\u001b[38;5;241m.\u001b[39mfit(X_train,y_train)\n\u001b[0;32m     47\u001b[0m y_pred\u001b[38;5;241m=\u001b[39mlin_mo\u001b[38;5;241m.\u001b[39mpredict(X_test)\n",
      "\u001b[1;31mNameError\u001b[0m: name 'LinearRegression' is not defined"
     ]
    }
   ],
   "source": [
    "\n",
    "import pandas as pd\n",
    "import yfinance as yf\n",
    "import statsmodels.api as sm\n",
    "import getFamaFrenchFactors as gff\n",
    "import numpy as np \n",
    "from pandas import DataFrame\n",
    "import seaborn as sns\n",
    "import scipy.stats as stats\n",
    "from scipy.stats import shapiro,boxcox,yeojohnson\n",
    "from scipy.stats import boxcox\n",
    "import matplotlib.pyplot as plt\n",
    "#define stock properties\n",
    "ticker = 'nvr'\n",
    "start = '2017-1-1'\n",
    "end = '2021-12-31'\n",
    "#Get stock data as per requirements\n",
    "stock_data = yf.download(ticker, start, end, adjusted=True)\n",
    "#Get monthly frequency \n",
    "ff3_monthly = gff.famaFrench3Factor(frequency='m')\n",
    "#Define date format\n",
    "ff3_monthly.rename(columns={\"date_ff_factors\": 'Date'}, inplace=True)\n",
    "ff3_monthly.set_index('Date', inplace=True)\n",
    "#Define stock return format\n",
    "stock_returns = stock_data['Adj Close'].resample('M').last().pct_change().dropna()\n",
    "stock_returns.name = \"Month_Rtn\"\n",
    "ff_data = ff3_monthly.merge(stock_returns,on='Date')\n",
    "\n",
    "X = ff_data[['Mkt-RF', 'SMB', 'HML']]\n",
    "y = ff_data['Month_Rtn'] - ff_data['RF']\n",
    "X = sm.add_constant(X)\n",
    "ff_model = sm.OLS(y, X).fit()\n",
    "print(ff_model.summary())\n",
    "intercept, b1, b2, b3 = ff_model.params\n",
    "\n",
    "rf = ff_data['RF'].mean()\n",
    "market_premium = ff3_monthly['Mkt-RF'].mean()\n",
    "size_premium = ff3_monthly['SMB'].mean()\n",
    "value_premium = ff3_monthly['HML'].mean()\n",
    "\n",
    "expected_monthly_return = rf + b1 * market_premium + b2 * size_premium + b3 * value_premium \n",
    "expected_yearly_return = expected_monthly_return * 12\n",
    "print(\"Expected yearly return: \" + str(expected_yearly_return))\n",
    "print(\"Expected monthly return: \" + str(expected_monthly_return))\n",
    "\n"
   ]
  },
  {
   "cell_type": "code",
   "execution_count": 3,
   "id": "be46a937",
   "metadata": {},
   "outputs": [
    {
     "name": "stdout",
     "output_type": "stream",
     "text": [
      "[*********************100%***********************]  1 of 1 completed\n",
      "                            OLS Regression Results                            \n",
      "==============================================================================\n",
      "Dep. Variable:               Asset-RF   R-squared:                       0.311\n",
      "Model:                            OLS   Adj. R-squared:                  0.299\n",
      "Method:                 Least Squares   F-statistic:                     25.70\n",
      "Date:                Sat, 25 Jun 2022   Prob (F-statistic):           4.50e-06\n",
      "Time:                        10:22:45   Log-Likelihood:                 77.555\n",
      "No. Observations:                  59   AIC:                            -151.1\n",
      "Df Residuals:                      57   BIC:                            -147.0\n",
      "Df Model:                           1                                         \n",
      "Covariance Type:            nonrobust                                         \n",
      "==============================================================================\n",
      "                 coef    std err          t      P>|t|      [0.025      0.975]\n",
      "------------------------------------------------------------------------------\n",
      "const          0.0087      0.009      0.969      0.336      -0.009       0.027\n",
      "Mkt-RF         0.9386      0.185      5.070      0.000       0.568       1.309\n",
      "==============================================================================\n",
      "Omnibus:                        1.509   Durbin-Watson:                   1.748\n",
      "Prob(Omnibus):                  0.470   Jarque-Bera (JB):                0.911\n",
      "Skew:                          -0.283   Prob(JB):                        0.634\n",
      "Kurtosis:                       3.226   Cond. No.                         21.5\n",
      "==============================================================================\n",
      "\n",
      "Notes:\n",
      "[1] Standard Errors assume that the covariance matrix of the errors is correctly specified.\n",
      "const     0.008728\n",
      "Mkt-RF    0.938624\n",
      "dtype: float64\n",
      "Expected monthly returns: 0.014242386261263852\n",
      "Expected yearly returns: 0.17090863513516621\n"
     ]
    }
   ],
   "source": [
    "#CAPM Model\n",
    "import pandas as pd\n",
    "import yfinance as yf\n",
    "import statsmodels.api as sm\n",
    "import getFamaFrenchFactors as gff\n",
    "\n",
    "ticker = \"NVR\"\n",
    "stock_data = yf.download(ticker, start=\"2017-01-01\", end=\"2021-12-31\")\n",
    "factors = pd.read_csv(\"./data/fffactors_w.csv\", index_col=\"Date\")\n",
    "\n",
    "# convert Date index to datetime object\n",
    "factors.index= pd.to_datetime(factors.index, format=\"%Y%m%d\")\n",
    "\n",
    "# get monthly avg\n",
    "factors = factors.resample('BM').mean()\n",
    "\n",
    "factors_cum = factors.cumsum()\n",
    "factors_cum.plot.line()\n",
    "\n",
    "\n",
    "stock_prices = stock_data['Adj Close']\n",
    "stock_prices = stock_prices.resample(\"1M\").last()\n",
    "returns = stock_prices.pct_change()\n",
    "returns = returns.dropna()\n",
    "returns.name = \"Asset\"\n",
    "\n",
    "ff3_monthly = pd.DataFrame(gff.famaFrench3Factor(frequency='m'))\n",
    "ff3_monthly.dtypes\n",
    "ff3_monthly.rename(columns={\"date_ff_factors\": 'Date'}, inplace=True)\n",
    "ff3_monthly.set_index('Date', inplace=True)\n",
    "ff_data = ff3_monthly.merge(returns, on='Date')\n",
    "rf = ff_data['RF'].mean()\n",
    "market_premium = ff_data['Mkt-RF'].mean()\n",
    "\n",
    "X = ff_data['Mkt-RF']\n",
    "ff_data['Asset-RF'] = ff_data['Asset'] - ff_data['RF']\n",
    "y = ff_data['Asset-RF']\n",
    "c = sm.add_constant(X)\n",
    "capm_model = sm.OLS(y, c)\n",
    "result = capm_model.fit()\n",
    "print(result.summary())\n",
    "intercept, beta = result.params\n",
    "print(result.params)\n",
    "expected_return = rf + beta*market_premium\n",
    "print(\"Expected monthly returns: \" + str(expected_return))\n",
    "yearly_return = expected_return * 12\n",
    "print(\"Expected yearly returns: \" + str(yearly_return))\n",
    "\n"
   ]
  },
  {
   "cell_type": "code",
   "execution_count": null,
   "id": "b533ef75",
   "metadata": {},
   "outputs": [],
   "source": []
  },
  {
   "cell_type": "code",
   "execution_count": 4,
   "id": "a02495b7",
   "metadata": {},
   "outputs": [
    {
     "name": "stdout",
     "output_type": "stream",
     "text": [
      "[*********************100%***********************]  1 of 1 completed\n",
      "                            OLS Regression Results                            \n",
      "==============================================================================\n",
      "Dep. Variable:                      y   R-squared:                       0.333\n",
      "Model:                            OLS   Adj. R-squared:                  0.297\n",
      "Method:                 Least Squares   F-statistic:                     9.149\n",
      "Date:                Wed, 29 Jun 2022   Prob (F-statistic):           5.23e-05\n",
      "Time:                        21:18:14   Log-Likelihood:                 78.517\n",
      "No. Observations:                  59   AIC:                            -149.0\n",
      "Df Residuals:                      55   BIC:                            -140.7\n",
      "Df Model:                           3                                         \n",
      "Covariance Type:            nonrobust                                         \n",
      "==============================================================================\n",
      "                 coef    std err          t      P>|t|      [0.025      0.975]\n",
      "------------------------------------------------------------------------------\n",
      "const          0.0111      0.009      1.195      0.237      -0.008       0.030\n",
      "Mkt-RF         0.9218      0.196      4.693      0.000       0.528       1.315\n",
      "SMB           -0.1889      0.343     -0.552      0.583      -0.875       0.497\n",
      "HML            0.3177      0.245      1.297      0.200      -0.173       0.808\n",
      "==============================================================================\n",
      "Omnibus:                        0.431   Durbin-Watson:                   1.762\n",
      "Prob(Omnibus):                  0.806   Jarque-Bera (JB):                0.390\n",
      "Skew:                          -0.187   Prob(JB):                        0.823\n",
      "Kurtosis:                       2.863   Cond. No.                         40.7\n",
      "==============================================================================\n",
      "\n",
      "Notes:\n",
      "[1] Standard Errors assume that the covariance matrix of the errors is correctly specified.\n",
      "Expected yearly return: 0.09473237716747816\n",
      "Expected monthly return: 0.007894364763956514\n"
     ]
    }
   ],
   "source": [
    "#Fama French 3\n",
    "import pandas as pd\n",
    "import yfinance as yf\n",
    "import statsmodels.api as sm\n",
    "import getFamaFrenchFactors as gff\n",
    "import numpy as np \n",
    "from pandas import DataFrame\n",
    "import seaborn as sns\n",
    "import scipy.stats as stats\n",
    "from scipy.stats import shapiro,boxcox,yeojohnson\n",
    "from scipy.stats import boxcox\n",
    "import matplotlib.pyplot as plt\n",
    "#define stock properties\n",
    "ticker = 'nvr'\n",
    "start = '2017-1-1'\n",
    "end = '2021-12-31'\n",
    "#Get stock data as per requirements\n",
    "stock_data = yf.download(ticker, start, end, adjusted=True)\n",
    "#Get monthly frequency \n",
    "ff3_monthly = gff.famaFrench3Factor(frequency='m')\n",
    "#Define date format\n",
    "ff3_monthly.rename(columns={\"date_ff_factors\": 'Date'}, inplace=True)\n",
    "ff3_monthly.set_index('Date', inplace=True)\n",
    "#Define stock return format\n",
    "stock_returns = stock_data['Adj Close'].resample('M').last().pct_change().dropna()\n",
    "stock_returns.name = \"Month_Rtn\"\n",
    "ff_data = ff3_monthly.merge(stock_returns,on='Date')\n",
    "\n",
    "X = ff_data[['Mkt-RF', 'SMB', 'HML']]\n",
    "y = ff_data['Month_Rtn'] - ff_data['RF']\n",
    "X = sm.add_constant(X)\n",
    "ff_model = sm.OLS(y, X).fit()\n",
    "print(ff_model.summary())\n",
    "intercept, b1, b2, b3 = ff_model.params\n",
    "\n",
    "rf = ff_data['RF'].mean()\n",
    "market_premium = ff3_monthly['Mkt-RF'].mean()\n",
    "size_premium = ff3_monthly['SMB'].mean()\n",
    "value_premium = ff3_monthly['HML'].mean()\n",
    "\n",
    "expected_monthly_return = rf + b1 * market_premium + b2 * size_premium + b3 * value_premium \n",
    "expected_yearly_return = expected_monthly_return * 12\n",
    "print(\"Expected yearly return: \" + str(expected_yearly_return))\n",
    "print(\"Expected monthly return: \" + str(expected_monthly_return))\n",
    "\n"
   ]
  },
  {
   "cell_type": "code",
   "execution_count": 12,
   "id": "aa4ed7f8",
   "metadata": {},
   "outputs": [
    {
     "data": {
      "text/plain": [
       "<bound method NDFrame.head of              Returns\n",
       "Date                \n",
       "2017-02-28  0.041026\n",
       "2017-03-31  0.088544\n",
       "2017-05-31  0.080456\n",
       "2017-06-30  0.055583\n",
       "2017-07-31  0.082196\n",
       "2017-08-31  0.041396\n",
       "2017-10-31  0.148442\n",
       "2017-11-30  0.058209\n",
       "2018-01-31 -0.095179\n",
       "2018-02-28 -0.106507\n",
       "2018-04-30  0.105743\n",
       "2018-05-31 -0.036710\n",
       "2018-07-31 -0.072609\n",
       "2018-08-31 -0.034571\n",
       "2018-10-31 -0.095704\n",
       "2018-11-30  0.092424\n",
       "2018-12-31 -0.007210\n",
       "2019-01-31  0.089410\n",
       "2019-02-28 -0.016838\n",
       "2019-04-30  0.137213\n",
       "2019-05-31  0.013472\n",
       "2019-07-31 -0.009647\n",
       "2019-09-30  0.031084\n",
       "2019-10-31 -0.023225\n",
       "2019-12-31  0.002957\n",
       "2020-01-31  0.000948\n",
       "2020-03-31 -0.300632\n",
       "2020-04-30  0.206643\n",
       "2020-06-30  0.011428\n",
       "2020-07-31  0.205930\n",
       "2020-08-31  0.060506\n",
       "2020-09-30 -0.020545\n",
       "2020-11-30  0.011053\n",
       "2020-12-31  0.020585\n",
       "2021-03-31  0.046678\n",
       "2021-04-30  0.065204\n",
       "2021-05-31 -0.026080\n",
       "2021-06-30  0.017611\n",
       "2021-08-31 -0.008168\n",
       "2021-09-30 -0.074491\n",
       "2021-11-30  0.067529\n",
       "2021-12-31  0.130711>"
      ]
     },
     "execution_count": 12,
     "metadata": {},
     "output_type": "execute_result"
    }
   ],
   "source": [
    "from datetime import datetime\n",
    "\n",
    "import pandas as pd\n",
    "import numpy as np\n",
    "from matplotlib import pyplot as plt\n",
    "import yfinance as yf\n",
    "import statsmodels.api as sm\n",
    "\n",
    "etsy = yf.Ticker(\"NVR\")\n",
    "hist = etsy.history(period=\"max\", auto_adjust=True, rounding=False)\n",
    "price = hist[[\"Close\"]]\n",
    "monthly_price = price.resample('BM').last()\n",
    "\n",
    "# calculate monthly returns\n",
    "monthly_returns = monthly_price.pct_change().dropna()\n",
    "\n",
    "# calculate excess monthly returns\n",
    "excess_returns = (monthly_returns['Close'] - ff_data['RF']).dropna()\n",
    "excess_returns = pd.DataFrame(data=excess_returns.values, index=excess_returns.index, columns=[\"Returns\"])\n",
    "\n",
    "excess_returns.head"
   ]
  },
  {
   "cell_type": "code",
   "execution_count": 13,
   "id": "583138e5",
   "metadata": {},
   "outputs": [
    {
     "data": {
      "text/plain": [
       "<AxesSubplot:xlabel='Date'>"
      ]
     },
     "execution_count": 13,
     "metadata": {},
     "output_type": "execute_result"
    },
    {
     "data": {
      "image/png": "[encoded data removed]",
      "text/plain": [
       "<Figure size 432x288 with 1 Axes>"
      ]
     },
     "metadata": {
      "needs_background": "light"
     },
     "output_type": "display_data"
    }
   ],
   "source": [
    "excess_returns_cum = excess_returns.cumsum()\n",
    "excess_returns_cum.plot.line()"
   ]
  },
  {
   "cell_type": "code",
   "execution_count": 17,
   "id": "f3ce7260",
   "metadata": {},
   "outputs": [
    {
     "name": "stdout",
     "output_type": "stream",
     "text": [
      "Mkt-RF    1.152276\n",
      "SMB      -0.589695\n",
      "HML       0.352358\n",
      "dtype: float64\n"
     ]
    }
   ],
   "source": [
    "# join factors to returns dfs\n",
    "data = ff_data.join(excess_returns).dropna()\n",
    "\n",
    "y = data[[\"Returns\"]] \n",
    "x = data[[\"Mkt-RF\",\"SMB\",\"HML\"]]\n",
    "\n",
    "\n",
    "ols = sm.OLS(y,x)\n",
    "\n",
    "result1 = ols.fit()\n",
    "betas = result1.params\n",
    "print(betas)"
   ]
  },
  {
   "cell_type": "code",
   "execution_count": 18,
   "id": "5eddee65",
   "metadata": {},
   "outputs": [
    {
     "ename": "IndentationError",
     "evalue": "unexpected indent (105010658.py, line 4)",
     "output_type": "error",
     "traceback": [
      "\u001b[1;36m  Input \u001b[1;32mIn [18]\u001b[1;36m\u001b[0m\n\u001b[1;33m    + betas[\"Mkt-RF\"] * latest_factors[\"Mkt-RF\"]\u001b[0m\n\u001b[1;37m    ^\u001b[0m\n\u001b[1;31mIndentationError\u001b[0m\u001b[1;31m:\u001b[0m unexpected indent\n"
     ]
    }
   ],
   "source": [
    "latest_factors = ff_data.tail(1).to_dict('r')[0]\n",
    "\n",
    "RRR = latest_factors[\"RF\"]\n",
    "    + betas[\"Mkt-RF\"] * latest_factors[\"Mkt-RF\"]\n",
    "    + betas[\"SMB\"] * latest_factors[\"SMB\"]\n",
    "    + betas[\"HML\"] * latest_factors[\"HML\"]\n",
    "\n",
    "print(f\"Required rate of return is: {RRR}\")"
   ]
  },
  {
   "cell_type": "code",
   "execution_count": null,
   "id": "8cfc71bd",
   "metadata": {},
   "outputs": [],
   "source": []
  },
  {
   "cell_type": "code",
   "execution_count": 20,
   "id": "a09cc8ae",
   "metadata": {},
   "outputs": [
    {
     "name": "stdout",
     "output_type": "stream",
     "text": [
      "Required rate of return is: 0.0566015814219651\n"
     ]
    },
    {
     "name": "stderr",
     "output_type": "stream",
     "text": [
      "C:\\Users\\kshit\\AppData\\Local\\Temp\\ipykernel_16648\\982764587.py:1: FutureWarning: Using short name for 'orient' is deprecated. Only the options: ('dict', list, 'series', 'split', 'records', 'index') will be used in a future version. Use one of the above to silence this warning.\n",
      "  latest_factors = ff_data.tail(1).to_dict('r')[0]\n"
     ]
    }
   ],
   "source": [
    "latest_factors = ff_data.tail(1).to_dict('r')[0]\n",
    "\n",
    "RRR = latest_factors[\"RF\"]+ betas[\"Mkt-RF\"] * latest_factors[\"Mkt-RF\"]+ betas[\"SMB\"] * latest_factors[\"SMB\"]+ betas[\"HML\"] * latest_factors[\"HML\"]\n",
    "\n",
    "print(f\"Required rate of return is: {RRR}\")"
   ]
  },
  {
   "cell_type": "code",
   "execution_count": 21,
   "id": "e98180ef",
   "metadata": {},
   "outputs": [
    {
     "name": "stdout",
     "output_type": "stream",
     "text": [
      "Required rate of return is: 0.0566015814219651\n"
     ]
    },
    {
     "name": "stderr",
     "output_type": "stream",
     "text": [
      "C:\\Users\\kshit\\AppData\\Local\\Temp\\ipykernel_16648\\982764587.py:1: FutureWarning: Using short name for 'orient' is deprecated. Only the options: ('dict', list, 'series', 'split', 'records', 'index') will be used in a future version. Use one of the above to silence this warning.\n",
      "  latest_factors = ff_data.tail(1).to_dict('r')[0]\n"
     ]
    }
   ],
   "source": [
    "latest_factors = ff_data.tail(1).to_dict('r')[0]\n",
    "\n",
    "RRR = latest_factors[\"RF\"]+ betas[\"Mkt-RF\"] * latest_factors[\"Mkt-RF\"]+ betas[\"SMB\"] * latest_factors[\"SMB\"]+ betas[\"HML\"] * latest_factors[\"HML\"]\n",
    "\n",
    "print(f\"Required rate of return is: {RRR}\")"
   ]
  },
  {
   "cell_type": "code",
   "execution_count": 23,
   "id": "77762d9b",
   "metadata": {},
   "outputs": [
    {
     "data": {
      "text/plain": [
       "<AxesSubplot:xlabel='Date'>"
      ]
     },
     "execution_count": 23,
     "metadata": {},
     "output_type": "execute_result"
    },
    {
     "data": {
      "image/png": "[encoded data removed]",
      "text/plain": [
       "<Figure size 432x288 with 1 Axes>"
      ]
     },
     "metadata": {
      "needs_background": "light"
     },
     "output_type": "display_data"
    }
   ],
   "source": [
    "ff_data.index= pd.to_datetime(ff_data.index, format=\"%Y%m%d\")\n",
    "\n",
    "# get monthly avg\n",
    "factors = ff_data.resample('BM').mean()\n",
    "\n",
    "factors_cum = factors.cumsum()\n",
    "factors_cum.plot.line()"
   ]
  },
  {
   "cell_type": "code",
   "execution_count": 24,
   "id": "8b4496b3",
   "metadata": {},
   "outputs": [
    {
     "data": {
      "text/plain": [
       "<AxesSubplot:xlabel='Date'>"
      ]
     },
     "execution_count": 24,
     "metadata": {},
     "output_type": "execute_result"
    },
    {
     "data": {
      "image/png": "[encoded data removed]",
      "text/plain": [
       "<Figure size 432x288 with 1 Axes>"
      ]
     },
     "metadata": {
      "needs_background": "light"
     },
     "output_type": "display_data"
    }
   ],
   "source": [
    "ff_data.index= pd.to_datetime(ff_data.index, format=\"%Y%m\")\n",
    "\n",
    "# get monthly avg\n",
    "factors = ff_data.resample('BM').mean()\n",
    "\n",
    "factors_cum = factors.cumsum()\n",
    "factors_cum.plot.line()"
   ]
  },
  {
   "cell_type": "code",
   "execution_count": null,
   "id": "d26e0236",
   "metadata": {},
   "outputs": [],
   "source": []
  }
 ],
 "metadata": {
  "kernelspec": {
   "display_name": "Python 3 (ipykernel)",
   "language": "python",
   "name": "python3"
  },
  "language_info": {
   "codemirror_mode": {
    "name": "ipython",
    "version": 3
   },
   "file_extension": ".py",
   "mimetype": "text/x-python",
   "name": "python",
   "nbconvert_exporter": "python",
   "pygments_lexer": "ipython3",
   "version": "3.9.12"
  }
 },
 "nbformat": 4,
 "nbformat_minor": 5
}
