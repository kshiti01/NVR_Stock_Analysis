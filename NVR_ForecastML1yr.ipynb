{
 "cells": [
  {
   "cell_type": "code",
   "execution_count": 50,
   "metadata": {},
   "outputs": [],
   "source": [
    "# Import libraries\n",
    "\n",
    "from pandas_datareader import data as pdr\n",
    "import yfinance as yfin\n",
    "yfin.pdr_override()\n",
    "\n",
    "import pandas as pd\n",
    "import numpy as np\n",
    "from datetime import datetime\n",
    "import matplotlib.pyplot as plt\n",
    "plt.style.use('fivethirtyeight')\n",
    "\n",
    "from sklearn.linear_model import LinearRegression\n",
    "from sklearn.svm import SVR\n",
    "from sklearn.model_selection import train_test_split\n",
    "from sklearn.ensemble import RandomForestRegressor"
   ]
  },
  {
   "cell_type": "code",
   "execution_count": 51,
   "metadata": {},
   "outputs": [
    {
     "name": "stdout",
     "output_type": "stream",
     "text": [
      "[*********************100%***********************]  1 of 1 completed\n"
     ]
    },
    {
     "data": {
      "text/html": [
       "<div>\n",
       "<style scoped>\n",
       "    .dataframe tbody tr th:only-of-type {\n",
       "        vertical-align: middle;\n",
       "    }\n",
       "\n",
       "    .dataframe tbody tr th {\n",
       "        vertical-align: top;\n",
       "    }\n",
       "\n",
       "    .dataframe thead th {\n",
       "        text-align: right;\n",
       "    }\n",
       "</style>\n",
       "<table border=\"1\" class=\"dataframe\">\n",
       "  <thead>\n",
       "    <tr style=\"text-align: right;\">\n",
       "      <th></th>\n",
       "      <th>Open</th>\n",
       "      <th>High</th>\n",
       "      <th>Low</th>\n",
       "      <th>Close</th>\n",
       "      <th>Adj Close</th>\n",
       "      <th>Volume</th>\n",
       "    </tr>\n",
       "    <tr>\n",
       "      <th>Date</th>\n",
       "      <th></th>\n",
       "      <th></th>\n",
       "      <th></th>\n",
       "      <th></th>\n",
       "      <th></th>\n",
       "      <th></th>\n",
       "    </tr>\n",
       "  </thead>\n",
       "  <tbody>\n",
       "    <tr>\n",
       "      <th>2021-01-04</th>\n",
       "      <td>4089.979980</td>\n",
       "      <td>4106.790039</td>\n",
       "      <td>3988.000000</td>\n",
       "      <td>4040.649902</td>\n",
       "      <td>4040.649902</td>\n",
       "      <td>23700</td>\n",
       "    </tr>\n",
       "    <tr>\n",
       "      <th>2021-01-05</th>\n",
       "      <td>4025.199951</td>\n",
       "      <td>4049.989990</td>\n",
       "      <td>3965.000000</td>\n",
       "      <td>4008.909912</td>\n",
       "      <td>4008.909912</td>\n",
       "      <td>26800</td>\n",
       "    </tr>\n",
       "    <tr>\n",
       "      <th>2021-01-06</th>\n",
       "      <td>3970.000000</td>\n",
       "      <td>4021.489990</td>\n",
       "      <td>3892.000000</td>\n",
       "      <td>3966.489990</td>\n",
       "      <td>3966.489990</td>\n",
       "      <td>29400</td>\n",
       "    </tr>\n",
       "    <tr>\n",
       "      <th>2021-01-07</th>\n",
       "      <td>3997.479980</td>\n",
       "      <td>4080.729980</td>\n",
       "      <td>3977.030029</td>\n",
       "      <td>4025.929932</td>\n",
       "      <td>4025.929932</td>\n",
       "      <td>29600</td>\n",
       "    </tr>\n",
       "    <tr>\n",
       "      <th>2021-01-08</th>\n",
       "      <td>4040.689941</td>\n",
       "      <td>4077.000000</td>\n",
       "      <td>3892.669922</td>\n",
       "      <td>3930.000000</td>\n",
       "      <td>3930.000000</td>\n",
       "      <td>44600</td>\n",
       "    </tr>\n",
       "    <tr>\n",
       "      <th>...</th>\n",
       "      <td>...</td>\n",
       "      <td>...</td>\n",
       "      <td>...</td>\n",
       "      <td>...</td>\n",
       "      <td>...</td>\n",
       "      <td>...</td>\n",
       "    </tr>\n",
       "    <tr>\n",
       "      <th>2021-12-23</th>\n",
       "      <td>5826.669922</td>\n",
       "      <td>5847.799805</td>\n",
       "      <td>5779.890137</td>\n",
       "      <td>5784.629883</td>\n",
       "      <td>5784.629883</td>\n",
       "      <td>7400</td>\n",
       "    </tr>\n",
       "    <tr>\n",
       "      <th>2021-12-27</th>\n",
       "      <td>5817.000000</td>\n",
       "      <td>5830.970215</td>\n",
       "      <td>5763.479980</td>\n",
       "      <td>5820.069824</td>\n",
       "      <td>5820.069824</td>\n",
       "      <td>12600</td>\n",
       "    </tr>\n",
       "    <tr>\n",
       "      <th>2021-12-28</th>\n",
       "      <td>5820.500000</td>\n",
       "      <td>5893.500000</td>\n",
       "      <td>5820.500000</td>\n",
       "      <td>5869.470215</td>\n",
       "      <td>5869.470215</td>\n",
       "      <td>7900</td>\n",
       "    </tr>\n",
       "    <tr>\n",
       "      <th>2021-12-29</th>\n",
       "      <td>5880.479980</td>\n",
       "      <td>5962.430176</td>\n",
       "      <td>5861.790039</td>\n",
       "      <td>5959.330078</td>\n",
       "      <td>5959.330078</td>\n",
       "      <td>7800</td>\n",
       "    </tr>\n",
       "    <tr>\n",
       "      <th>2021-12-30</th>\n",
       "      <td>5977.609863</td>\n",
       "      <td>5978.160156</td>\n",
       "      <td>5884.060059</td>\n",
       "      <td>5906.029785</td>\n",
       "      <td>5906.029785</td>\n",
       "      <td>8300</td>\n",
       "    </tr>\n",
       "  </tbody>\n",
       "</table>\n",
       "<p>251 rows × 6 columns</p>\n",
       "</div>"
      ],
      "text/plain": [
       "                   Open         High          Low        Close    Adj Close  \\\n",
       "Date                                                                          \n",
       "2021-01-04  4089.979980  4106.790039  3988.000000  4040.649902  4040.649902   \n",
       "2021-01-05  4025.199951  4049.989990  3965.000000  4008.909912  4008.909912   \n",
       "2021-01-06  3970.000000  4021.489990  3892.000000  3966.489990  3966.489990   \n",
       "2021-01-07  3997.479980  4080.729980  3977.030029  4025.929932  4025.929932   \n",
       "2021-01-08  4040.689941  4077.000000  3892.669922  3930.000000  3930.000000   \n",
       "...                 ...          ...          ...          ...          ...   \n",
       "2021-12-23  5826.669922  5847.799805  5779.890137  5784.629883  5784.629883   \n",
       "2021-12-27  5817.000000  5830.970215  5763.479980  5820.069824  5820.069824   \n",
       "2021-12-28  5820.500000  5893.500000  5820.500000  5869.470215  5869.470215   \n",
       "2021-12-29  5880.479980  5962.430176  5861.790039  5959.330078  5959.330078   \n",
       "2021-12-30  5977.609863  5978.160156  5884.060059  5906.029785  5906.029785   \n",
       "\n",
       "            Volume  \n",
       "Date                \n",
       "2021-01-04   23700  \n",
       "2021-01-05   26800  \n",
       "2021-01-06   29400  \n",
       "2021-01-07   29600  \n",
       "2021-01-08   44600  \n",
       "...            ...  \n",
       "2021-12-23    7400  \n",
       "2021-12-27   12600  \n",
       "2021-12-28    7900  \n",
       "2021-12-29    7800  \n",
       "2021-12-30    8300  \n",
       "\n",
       "[251 rows x 6 columns]"
      ]
     },
     "execution_count": 51,
     "metadata": {},
     "output_type": "execute_result"
    }
   ],
   "source": [
    "# import the data\n",
    "\n",
    "NVR = pdr.get_data_yahoo('NVR',start='2021-01-01',end='2021-12-31')\n",
    "NVR"
   ]
  },
  {
   "cell_type": "code",
   "execution_count": 52,
   "metadata": {},
   "outputs": [
    {
     "data": {
      "text/html": [
       "<div>\n",
       "<style scoped>\n",
       "    .dataframe tbody tr th:only-of-type {\n",
       "        vertical-align: middle;\n",
       "    }\n",
       "\n",
       "    .dataframe tbody tr th {\n",
       "        vertical-align: top;\n",
       "    }\n",
       "\n",
       "    .dataframe thead th {\n",
       "        text-align: right;\n",
       "    }\n",
       "</style>\n",
       "<table border=\"1\" class=\"dataframe\">\n",
       "  <thead>\n",
       "    <tr style=\"text-align: right;\">\n",
       "      <th></th>\n",
       "      <th>Adj Close</th>\n",
       "    </tr>\n",
       "    <tr>\n",
       "      <th>Date</th>\n",
       "      <th></th>\n",
       "    </tr>\n",
       "  </thead>\n",
       "  <tbody>\n",
       "    <tr>\n",
       "      <th>2021-01-04</th>\n",
       "      <td>4040.649902</td>\n",
       "    </tr>\n",
       "    <tr>\n",
       "      <th>2021-01-05</th>\n",
       "      <td>4008.909912</td>\n",
       "    </tr>\n",
       "    <tr>\n",
       "      <th>2021-01-06</th>\n",
       "      <td>3966.489990</td>\n",
       "    </tr>\n",
       "    <tr>\n",
       "      <th>2021-01-07</th>\n",
       "      <td>4025.929932</td>\n",
       "    </tr>\n",
       "    <tr>\n",
       "      <th>2021-01-08</th>\n",
       "      <td>3930.000000</td>\n",
       "    </tr>\n",
       "    <tr>\n",
       "      <th>...</th>\n",
       "      <td>...</td>\n",
       "    </tr>\n",
       "    <tr>\n",
       "      <th>2021-12-23</th>\n",
       "      <td>5784.629883</td>\n",
       "    </tr>\n",
       "    <tr>\n",
       "      <th>2021-12-27</th>\n",
       "      <td>5820.069824</td>\n",
       "    </tr>\n",
       "    <tr>\n",
       "      <th>2021-12-28</th>\n",
       "      <td>5869.470215</td>\n",
       "    </tr>\n",
       "    <tr>\n",
       "      <th>2021-12-29</th>\n",
       "      <td>5959.330078</td>\n",
       "    </tr>\n",
       "    <tr>\n",
       "      <th>2021-12-30</th>\n",
       "      <td>5906.029785</td>\n",
       "    </tr>\n",
       "  </tbody>\n",
       "</table>\n",
       "<p>251 rows × 1 columns</p>\n",
       "</div>"
      ],
      "text/plain": [
       "              Adj Close\n",
       "Date                   \n",
       "2021-01-04  4040.649902\n",
       "2021-01-05  4008.909912\n",
       "2021-01-06  3966.489990\n",
       "2021-01-07  4025.929932\n",
       "2021-01-08  3930.000000\n",
       "...                 ...\n",
       "2021-12-23  5784.629883\n",
       "2021-12-27  5820.069824\n",
       "2021-12-28  5869.470215\n",
       "2021-12-29  5959.330078\n",
       "2021-12-30  5906.029785\n",
       "\n",
       "[251 rows x 1 columns]"
      ]
     },
     "execution_count": 52,
     "metadata": {},
     "output_type": "execute_result"
    }
   ],
   "source": [
    "# Creating a new df and using only the adj. close price\n",
    "df = NVR[['Adj Close']]\n",
    "df"
   ]
  },
  {
   "cell_type": "code",
   "execution_count": 106,
   "metadata": {},
   "outputs": [
    {
     "name": "stderr",
     "output_type": "stream",
     "text": [
      "<ipython-input-106-09ab9223795b>:3: SettingWithCopyWarning: \n",
      "A value is trying to be set on a copy of a slice from a DataFrame.\n",
      "Try using .loc[row_indexer,col_indexer] = value instead\n",
      "\n",
      "See the caveats in the documentation: https://pandas.pydata.org/pandas-docs/stable/user_guide/indexing.html#returning-a-view-versus-a-copy\n",
      "  df['Prediction'] = df[['Adj Close']].shift(-forecast_out)\n"
     ]
    },
    {
     "data": {
      "text/html": [
       "<div>\n",
       "<style scoped>\n",
       "    .dataframe tbody tr th:only-of-type {\n",
       "        vertical-align: middle;\n",
       "    }\n",
       "\n",
       "    .dataframe tbody tr th {\n",
       "        vertical-align: top;\n",
       "    }\n",
       "\n",
       "    .dataframe thead th {\n",
       "        text-align: right;\n",
       "    }\n",
       "</style>\n",
       "<table border=\"1\" class=\"dataframe\">\n",
       "  <thead>\n",
       "    <tr style=\"text-align: right;\">\n",
       "      <th></th>\n",
       "      <th>Adj Close</th>\n",
       "      <th>Prediction</th>\n",
       "    </tr>\n",
       "    <tr>\n",
       "      <th>Date</th>\n",
       "      <th></th>\n",
       "      <th></th>\n",
       "    </tr>\n",
       "  </thead>\n",
       "  <tbody>\n",
       "    <tr>\n",
       "      <th>2021-01-04</th>\n",
       "      <td>4040.649902</td>\n",
       "      <td>4704.399902</td>\n",
       "    </tr>\n",
       "    <tr>\n",
       "      <th>2021-01-05</th>\n",
       "      <td>4008.909912</td>\n",
       "      <td>4705.979980</td>\n",
       "    </tr>\n",
       "    <tr>\n",
       "      <th>2021-01-06</th>\n",
       "      <td>3966.489990</td>\n",
       "      <td>4705.450195</td>\n",
       "    </tr>\n",
       "    <tr>\n",
       "      <th>2021-01-07</th>\n",
       "      <td>4025.929932</td>\n",
       "      <td>4656.029785</td>\n",
       "    </tr>\n",
       "    <tr>\n",
       "      <th>2021-01-08</th>\n",
       "      <td>3930.000000</td>\n",
       "      <td>4699.580078</td>\n",
       "    </tr>\n",
       "    <tr>\n",
       "      <th>...</th>\n",
       "      <td>...</td>\n",
       "      <td>...</td>\n",
       "    </tr>\n",
       "    <tr>\n",
       "      <th>2021-12-23</th>\n",
       "      <td>5784.629883</td>\n",
       "      <td>NaN</td>\n",
       "    </tr>\n",
       "    <tr>\n",
       "      <th>2021-12-27</th>\n",
       "      <td>5820.069824</td>\n",
       "      <td>NaN</td>\n",
       "    </tr>\n",
       "    <tr>\n",
       "      <th>2021-12-28</th>\n",
       "      <td>5869.470215</td>\n",
       "      <td>NaN</td>\n",
       "    </tr>\n",
       "    <tr>\n",
       "      <th>2021-12-29</th>\n",
       "      <td>5959.330078</td>\n",
       "      <td>NaN</td>\n",
       "    </tr>\n",
       "    <tr>\n",
       "      <th>2021-12-30</th>\n",
       "      <td>5906.029785</td>\n",
       "      <td>NaN</td>\n",
       "    </tr>\n",
       "  </tbody>\n",
       "</table>\n",
       "<p>251 rows × 2 columns</p>\n",
       "</div>"
      ],
      "text/plain": [
       "              Adj Close   Prediction\n",
       "Date                                \n",
       "2021-01-04  4040.649902  4704.399902\n",
       "2021-01-05  4008.909912  4705.979980\n",
       "2021-01-06  3966.489990  4705.450195\n",
       "2021-01-07  4025.929932  4656.029785\n",
       "2021-01-08  3930.000000  4699.580078\n",
       "...                 ...          ...\n",
       "2021-12-23  5784.629883          NaN\n",
       "2021-12-27  5820.069824          NaN\n",
       "2021-12-28  5869.470215          NaN\n",
       "2021-12-29  5959.330078          NaN\n",
       "2021-12-30  5906.029785          NaN\n",
       "\n",
       "[251 rows x 2 columns]"
      ]
     },
     "execution_count": 106,
     "metadata": {},
     "output_type": "execute_result"
    }
   ],
   "source": [
    "# creating a variable for predicting stock price for n number of days into the future\n",
    "forecast_out = 30\n",
    "df['Prediction'] = df[['Adj Close']].shift(-forecast_out)\n",
    "df"
   ]
  },
  {
   "cell_type": "code",
   "execution_count": 107,
   "metadata": {
    "scrolled": true
   },
   "outputs": [
    {
     "data": {
      "text/plain": [
       "array([[4040.64990234],\n",
       "       [4008.90991211],\n",
       "       [3966.48999023],\n",
       "       [4025.92993164],\n",
       "       [3930.        ],\n",
       "       [3986.87011719],\n",
       "       [3963.18994141],\n",
       "       [3971.39990234],\n",
       "       [3975.05004883],\n",
       "       [4009.94995117],\n",
       "       [4160.        ],\n",
       "       [4278.81982422],\n",
       "       [4451.5       ],\n",
       "       [4485.91015625],\n",
       "       [4540.        ],\n",
       "       [4545.72021484],\n",
       "       [4535.        ],\n",
       "       [4518.20996094],\n",
       "       [4446.47998047],\n",
       "       [4530.        ],\n",
       "       [4509.97998047],\n",
       "       [4499.56982422],\n",
       "       [4552.10986328],\n",
       "       [4668.41015625],\n",
       "       [4740.93017578],\n",
       "       [4699.74023438],\n",
       "       [4701.83007812],\n",
       "       [4708.33007812],\n",
       "       [4700.02001953],\n",
       "       [4650.        ],\n",
       "       [4704.39990234],\n",
       "       [4705.97998047],\n",
       "       [4705.45019531],\n",
       "       [4656.02978516],\n",
       "       [4699.58007812],\n",
       "       [4699.97021484],\n",
       "       [4491.41992188],\n",
       "       [4500.83984375],\n",
       "       [4572.95996094],\n",
       "       [4657.95996094],\n",
       "       [4483.85009766],\n",
       "       [4441.29980469],\n",
       "       [4624.62011719],\n",
       "       [4699.75976562],\n",
       "       [4702.08984375],\n",
       "       [4776.41015625],\n",
       "       [4584.74023438],\n",
       "       [4538.83007812],\n",
       "       [4670.25      ],\n",
       "       [4629.04003906],\n",
       "       [4662.33007812],\n",
       "       [4421.85009766],\n",
       "       [4434.99023438],\n",
       "       [4503.64013672],\n",
       "       [4463.10009766],\n",
       "       [4539.64990234],\n",
       "       [4567.85986328],\n",
       "       [4722.74023438],\n",
       "       [4668.25976562],\n",
       "       [4706.10986328],\n",
       "       [4710.93017578],\n",
       "       [4785.18017578],\n",
       "       [4827.43994141],\n",
       "       [4837.77978516],\n",
       "       [4776.41015625],\n",
       "       [4748.49023438],\n",
       "       [4902.12988281],\n",
       "       [4873.72998047],\n",
       "       [4821.02001953],\n",
       "       [4821.43994141],\n",
       "       [4844.22021484],\n",
       "       [4984.85009766],\n",
       "       [4984.41992188],\n",
       "       [4906.22021484],\n",
       "       [4800.        ],\n",
       "       [4826.37011719],\n",
       "       [4862.58984375],\n",
       "       [4929.52978516],\n",
       "       [4978.81005859],\n",
       "       [5005.62988281],\n",
       "       [5023.91015625],\n",
       "       [5018.10009766],\n",
       "       [5124.06982422],\n",
       "       [5104.95019531],\n",
       "       [5142.41992188],\n",
       "       [5134.43994141],\n",
       "       [5211.37988281],\n",
       "       [5215.81005859],\n",
       "       [4988.02978516],\n",
       "       [4749.37011719],\n",
       "       [4925.72998047],\n",
       "       [4949.70996094],\n",
       "       [4871.49023438],\n",
       "       [4726.00976562],\n",
       "       [4705.66992188],\n",
       "       [4722.70019531],\n",
       "       [4655.22021484],\n",
       "       [4652.72021484],\n",
       "       [4836.35986328],\n",
       "       [4847.25976562],\n",
       "       [4861.29003906],\n",
       "       [4887.22998047],\n",
       "       [4841.02001953],\n",
       "       [4795.49023438],\n",
       "       [4747.06982422],\n",
       "       [4810.        ],\n",
       "       [4808.50976562],\n",
       "       [4838.12988281],\n",
       "       [4792.95019531],\n",
       "       [4602.93994141],\n",
       "       [4669.79003906],\n",
       "       [4671.74023438],\n",
       "       [4711.47998047],\n",
       "       [4656.08007812],\n",
       "       [4697.54980469],\n",
       "       [4785.14013672],\n",
       "       [4817.68994141],\n",
       "       [4821.27001953],\n",
       "       [4783.29003906],\n",
       "       [4818.45019531],\n",
       "       [4844.5       ],\n",
       "       [4884.41992188],\n",
       "       [4964.41015625],\n",
       "       [4973.29980469],\n",
       "       [5111.89013672],\n",
       "       [5114.37988281],\n",
       "       [5185.87011719],\n",
       "       [5202.20996094],\n",
       "       [5053.02001953],\n",
       "       [5060.83984375],\n",
       "       [4961.66992188],\n",
       "       [4820.29003906],\n",
       "       [4862.35009766],\n",
       "       [4824.31005859],\n",
       "       [4800.        ],\n",
       "       [4788.00976562],\n",
       "       [4900.27001953],\n",
       "       [4893.75976562],\n",
       "       [5014.64013672],\n",
       "       [5130.02978516],\n",
       "       [5032.68994141],\n",
       "       [5106.14013672],\n",
       "       [5064.95019531],\n",
       "       [5244.89013672],\n",
       "       [5222.60009766],\n",
       "       [5227.41992188],\n",
       "       [5295.22998047],\n",
       "       [5243.56005859],\n",
       "       [5313.56982422],\n",
       "       [5212.95019531],\n",
       "       [5154.97021484],\n",
       "       [5195.00976562],\n",
       "       [5305.75      ],\n",
       "       [5265.02001953],\n",
       "       [5252.49023438],\n",
       "       [5252.10009766],\n",
       "       [5114.16992188],\n",
       "       [5101.37011719],\n",
       "       [5072.27001953],\n",
       "       [5160.72998047],\n",
       "       [5130.27001953],\n",
       "       [5175.        ],\n",
       "       [5185.64013672],\n",
       "       [5103.02978516],\n",
       "       [5139.27001953],\n",
       "       [5125.02001953],\n",
       "       [5179.93994141],\n",
       "       [5177.37988281],\n",
       "       [5139.18017578],\n",
       "       [5100.64013672],\n",
       "       [5102.22021484],\n",
       "       [5052.47021484],\n",
       "       [5098.43017578],\n",
       "       [5132.12988281],\n",
       "       [5033.37988281],\n",
       "       [4958.58984375],\n",
       "       [4935.37988281],\n",
       "       [5024.        ],\n",
       "       [5070.74023438],\n",
       "       [4968.14990234],\n",
       "       [4966.72021484],\n",
       "       [5017.45019531],\n",
       "       [4977.33984375],\n",
       "       [4952.95996094],\n",
       "       [4987.31005859],\n",
       "       [4885.95996094],\n",
       "       [4942.25      ],\n",
       "       [4794.08007812],\n",
       "       [4785.33007812],\n",
       "       [4781.85986328],\n",
       "       [4781.81982422],\n",
       "       [4803.5       ],\n",
       "       [4869.77978516],\n",
       "       [4838.24023438],\n",
       "       [4840.85986328],\n",
       "       [4856.25      ],\n",
       "       [4873.72021484],\n",
       "       [4998.37011719],\n",
       "       [4966.52978516],\n",
       "       [5010.79003906],\n",
       "       [5034.70019531],\n",
       "       [5051.08984375],\n",
       "       [4900.        ],\n",
       "       [4875.5       ],\n",
       "       [4878.41992188],\n",
       "       [4870.97998047],\n",
       "       [4815.        ],\n",
       "       [4900.        ],\n",
       "       [4894.79980469],\n",
       "       [4927.66992188],\n",
       "       [4908.31005859],\n",
       "       [5020.02001953],\n",
       "       [5052.37988281],\n",
       "       [5089.24023438],\n",
       "       [5087.93017578],\n",
       "       [5200.27001953],\n",
       "       [5114.95019531],\n",
       "       [5149.52978516],\n",
       "       [5253.81005859],\n",
       "       [5277.97998047],\n",
       "       [5166.        ]])"
      ]
     },
     "execution_count": 107,
     "metadata": {},
     "output_type": "execute_result"
    }
   ],
   "source": [
    "# Creating the independent dataset (X) and convertng to a numpy array\n",
    "X = np.array(df.drop(['Prediction'],1))\n",
    "\n",
    "# Removing the last n rows to remove NaNs\n",
    "X = X[:-forecast_out]\n",
    "X"
   ]
  },
  {
   "cell_type": "code",
   "execution_count": 108,
   "metadata": {},
   "outputs": [
    {
     "data": {
      "text/plain": [
       "array([4704.39990234, 4705.97998047, 4705.45019531, 4656.02978516,\n",
       "       4699.58007812, 4699.97021484, 4491.41992188, 4500.83984375,\n",
       "       4572.95996094, 4657.95996094, 4483.85009766, 4441.29980469,\n",
       "       4624.62011719, 4699.75976562, 4702.08984375, 4776.41015625,\n",
       "       4584.74023438, 4538.83007812, 4670.25      , 4629.04003906,\n",
       "       4662.33007812, 4421.85009766, 4434.99023438, 4503.64013672,\n",
       "       4463.10009766, 4539.64990234, 4567.85986328, 4722.74023438,\n",
       "       4668.25976562, 4706.10986328, 4710.93017578, 4785.18017578,\n",
       "       4827.43994141, 4837.77978516, 4776.41015625, 4748.49023438,\n",
       "       4902.12988281, 4873.72998047, 4821.02001953, 4821.43994141,\n",
       "       4844.22021484, 4984.85009766, 4984.41992188, 4906.22021484,\n",
       "       4800.        , 4826.37011719, 4862.58984375, 4929.52978516,\n",
       "       4978.81005859, 5005.62988281, 5023.91015625, 5018.10009766,\n",
       "       5124.06982422, 5104.95019531, 5142.41992188, 5134.43994141,\n",
       "       5211.37988281, 5215.81005859, 4988.02978516, 4749.37011719,\n",
       "       4925.72998047, 4949.70996094, 4871.49023438, 4726.00976562,\n",
       "       4705.66992188, 4722.70019531, 4655.22021484, 4652.72021484,\n",
       "       4836.35986328, 4847.25976562, 4861.29003906, 4887.22998047,\n",
       "       4841.02001953, 4795.49023438, 4747.06982422, 4810.        ,\n",
       "       4808.50976562, 4838.12988281, 4792.95019531, 4602.93994141,\n",
       "       4669.79003906, 4671.74023438, 4711.47998047, 4656.08007812,\n",
       "       4697.54980469, 4785.14013672, 4817.68994141, 4821.27001953,\n",
       "       4783.29003906, 4818.45019531, 4844.5       , 4884.41992188,\n",
       "       4964.41015625, 4973.29980469, 5111.89013672, 5114.37988281,\n",
       "       5185.87011719, 5202.20996094, 5053.02001953, 5060.83984375,\n",
       "       4961.66992188, 4820.29003906, 4862.35009766, 4824.31005859,\n",
       "       4800.        , 4788.00976562, 4900.27001953, 4893.75976562,\n",
       "       5014.64013672, 5130.02978516, 5032.68994141, 5106.14013672,\n",
       "       5064.95019531, 5244.89013672, 5222.60009766, 5227.41992188,\n",
       "       5295.22998047, 5243.56005859, 5313.56982422, 5212.95019531,\n",
       "       5154.97021484, 5195.00976562, 5305.75      , 5265.02001953,\n",
       "       5252.49023438, 5252.10009766, 5114.16992188, 5101.37011719,\n",
       "       5072.27001953, 5160.72998047, 5130.27001953, 5175.        ,\n",
       "       5185.64013672, 5103.02978516, 5139.27001953, 5125.02001953,\n",
       "       5179.93994141, 5177.37988281, 5139.18017578, 5100.64013672,\n",
       "       5102.22021484, 5052.47021484, 5098.43017578, 5132.12988281,\n",
       "       5033.37988281, 4958.58984375, 4935.37988281, 5024.        ,\n",
       "       5070.74023438, 4968.14990234, 4966.72021484, 5017.45019531,\n",
       "       4977.33984375, 4952.95996094, 4987.31005859, 4885.95996094,\n",
       "       4942.25      , 4794.08007812, 4785.33007812, 4781.85986328,\n",
       "       4781.81982422, 4803.5       , 4869.77978516, 4838.24023438,\n",
       "       4840.85986328, 4856.25      , 4873.72021484, 4998.37011719,\n",
       "       4966.52978516, 5010.79003906, 5034.70019531, 5051.08984375,\n",
       "       4900.        , 4875.5       , 4878.41992188, 4870.97998047,\n",
       "       4815.        , 4900.        , 4894.79980469, 4927.66992188,\n",
       "       4908.31005859, 5020.02001953, 5052.37988281, 5089.24023438,\n",
       "       5087.93017578, 5200.27001953, 5114.95019531, 5149.52978516,\n",
       "       5253.81005859, 5277.97998047, 5166.        , 5160.        ,\n",
       "       5109.99023438, 5216.00976562, 5210.81982422, 5320.        ,\n",
       "       5351.39990234, 5291.10009766, 5281.72998047, 5225.33984375,\n",
       "       5404.56005859, 5549.18017578, 5480.85986328, 5626.14013672,\n",
       "       5671.37988281, 5892.58007812, 5863.52001953, 5935.72021484,\n",
       "       5785.89990234, 5832.04980469, 5907.37011719, 5760.35009766,\n",
       "       5636.77978516, 5602.74023438, 5747.04980469, 5813.37988281,\n",
       "       5784.62988281, 5820.06982422, 5869.47021484, 5959.33007812,\n",
       "       5906.02978516])"
      ]
     },
     "execution_count": 108,
     "metadata": {},
     "output_type": "execute_result"
    }
   ],
   "source": [
    "# Creating the dependent dataset (y) and convertig to a numpy array\n",
    "y = np.array(df['Prediction'])\n",
    "\n",
    "# Getting all the y values except the last n rows, to remove NaNs\n",
    "y = y[:-forecast_out]\n",
    "y"
   ]
  },
  {
   "cell_type": "code",
   "execution_count": 109,
   "metadata": {},
   "outputs": [],
   "source": [
    "# splitting the data into training and testing set (80/20)\n",
    "x_train,x_test,y_train,y_test = train_test_split(X,y,test_size=0.2)"
   ]
  },
  {
   "cell_type": "code",
   "execution_count": 110,
   "metadata": {},
   "outputs": [
    {
     "data": {
      "text/plain": [
       "SVR(C=1000.0, gamma=0.1)"
      ]
     },
     "execution_count": 110,
     "metadata": {},
     "output_type": "execute_result"
    }
   ],
   "source": [
    "# Creating and training the SVM model (Regressor)\n",
    "svr_rbf = SVR(kernel = 'rbf', C=1e3, gamma=0.1)\n",
    "svr_rbf.fit(x_train, y_train)\n"
   ]
  },
  {
   "cell_type": "code",
   "execution_count": 111,
   "metadata": {},
   "outputs": [
    {
     "data": {
      "text/plain": [
       "0.036955041945576306"
      ]
     },
     "execution_count": 111,
     "metadata": {},
     "output_type": "execute_result"
    }
   ],
   "source": [
    "# Testing the model: score returns the coeff. of determination R^2 of predictions\n",
    "svm_confidence = svr_rbf.score(x_test,y_test)\n",
    "svm_confidence"
   ]
  },
  {
   "cell_type": "code",
   "execution_count": 112,
   "metadata": {},
   "outputs": [
    {
     "data": {
      "text/plain": [
       "LinearRegression()"
      ]
     },
     "execution_count": 112,
     "metadata": {},
     "output_type": "execute_result"
    }
   ],
   "source": [
    "# Creating and training the linear regression model\n",
    "lr = LinearRegression()\n",
    "\n",
    "# Training the model\n",
    "lr.fit(x_train,y_train)"
   ]
  },
  {
   "cell_type": "code",
   "execution_count": 113,
   "metadata": {},
   "outputs": [
    {
     "data": {
      "text/plain": [
       "0.19752229367267526"
      ]
     },
     "execution_count": 113,
     "metadata": {},
     "output_type": "execute_result"
    }
   ],
   "source": [
    "# Testing the model: score returns the coeff. of determination R^2 of predictions\n",
    "lr_confidence = lr.score(x_test,y_test)\n",
    "lr_confidence"
   ]
  },
  {
   "cell_type": "code",
   "execution_count": 114,
   "metadata": {},
   "outputs": [
    {
     "data": {
      "text/plain": [
       "RandomForestRegressor(max_depth=3, n_estimators=50)"
      ]
     },
     "execution_count": 114,
     "metadata": {},
     "output_type": "execute_result"
    }
   ],
   "source": [
    "# Creating and training the random forest model\n",
    "rf = RandomForestRegressor(n_estimators=50,max_depth=3)\n",
    "\n",
    "# Training the model\n",
    "rf.fit(x_train,y_train)"
   ]
  },
  {
   "cell_type": "code",
   "execution_count": 115,
   "metadata": {},
   "outputs": [
    {
     "data": {
      "text/plain": [
       "0.14667255478019725"
      ]
     },
     "execution_count": 115,
     "metadata": {},
     "output_type": "execute_result"
    }
   ],
   "source": [
    "# Testing the model: score returns the coeff. of determination R^2 of predictions\n",
    "rf_confidence = rf.score(x_test,y_test)\n",
    "rf_confidence"
   ]
  },
  {
   "cell_type": "code",
   "execution_count": 116,
   "metadata": {},
   "outputs": [
    {
     "data": {
      "text/plain": [
       "array([[5160.        ],\n",
       "       [5109.99023438],\n",
       "       [5216.00976562],\n",
       "       [5210.81982422],\n",
       "       [5320.        ],\n",
       "       [5351.39990234],\n",
       "       [5291.10009766],\n",
       "       [5281.72998047],\n",
       "       [5225.33984375],\n",
       "       [5404.56005859],\n",
       "       [5549.18017578],\n",
       "       [5480.85986328],\n",
       "       [5626.14013672],\n",
       "       [5671.37988281],\n",
       "       [5892.58007812],\n",
       "       [5863.52001953],\n",
       "       [5935.72021484],\n",
       "       [5785.89990234],\n",
       "       [5832.04980469],\n",
       "       [5907.37011719],\n",
       "       [5760.35009766],\n",
       "       [5636.77978516],\n",
       "       [5602.74023438],\n",
       "       [5747.04980469],\n",
       "       [5813.37988281],\n",
       "       [5784.62988281],\n",
       "       [5820.06982422],\n",
       "       [5869.47021484],\n",
       "       [5959.33007812],\n",
       "       [5906.02978516]])"
      ]
     },
     "execution_count": 116,
     "metadata": {},
     "output_type": "execute_result"
    }
   ],
   "source": [
    "# Setting x_test (forecast) for last 30 rows using Adj. Close\n",
    "x_forecast = np.array(df.drop(['Prediction'],1))[-forecast_out:]\n",
    "x_forecast"
   ]
  },
  {
   "cell_type": "code",
   "execution_count": 117,
   "metadata": {},
   "outputs": [
    {
     "data": {
      "text/plain": [
       "array([4760.24605637, 5233.739706  , 4807.52572997, 4769.74205415,\n",
       "       4980.79888951, 4979.33737827, 4971.37006015, 5219.47046584,\n",
       "       4990.34192798, 4979.33737827, 4979.33737827, 4979.33737827,\n",
       "       4979.33737827, 4979.33737827, 4979.33737827, 4979.33737827,\n",
       "       4979.33737827, 4979.33737827, 4979.33737827, 4979.33737827,\n",
       "       4979.33737827, 4979.33737827, 4979.33737827, 4979.33737827,\n",
       "       4979.33737827, 4979.33737827, 4979.33737827, 4979.33737827,\n",
       "       4979.33737827, 4979.33737827])"
      ]
     },
     "execution_count": 117,
     "metadata": {},
     "output_type": "execute_result"
    }
   ],
   "source": [
    "# Printing SVM predictions for next n days\n",
    "svr_prediction = svr_rbf.predict(x_forecast)\n",
    "svr_prediction"
   ]
  },
  {
   "cell_type": "code",
   "execution_count": 118,
   "metadata": {},
   "outputs": [
    {
     "data": {
      "text/plain": [
       "array([5124.06958578, 5104.86833888, 5145.57453236, 5143.58185463,\n",
       "       5185.50157742, 5197.55756828, 5174.40546142, 5170.80780542,\n",
       "       5149.15681537, 5217.96840749, 5273.49529392, 5247.26371351,\n",
       "       5303.0440669 , 5320.41386505, 5405.34366847, 5394.18606049,\n",
       "       5421.90732171, 5364.38382056, 5382.10307315, 5411.0223032 ,\n",
       "       5354.57397438, 5307.12915936, 5294.05967562, 5349.46732759,\n",
       "       5374.93475762, 5363.89619663, 5377.50336028, 5396.47063767,\n",
       "       5430.97232748, 5410.50768278])"
      ]
     },
     "execution_count": 118,
     "metadata": {},
     "output_type": "execute_result"
    }
   ],
   "source": [
    "# Printing LR predictions for next n days\n",
    "lr_prediction = lr.predict(x_forecast)\n",
    "lr_prediction"
   ]
  },
  {
   "cell_type": "code",
   "execution_count": 119,
   "metadata": {},
   "outputs": [
    {
     "data": {
      "text/plain": [
       "array([5068.26505481, 5016.03336197, 5023.25008049, 5023.25008049,\n",
       "       5238.66423361, 5238.66423361, 5256.43603048, 5334.48689897,\n",
       "       5023.25008049, 5238.66423361, 5238.66423361, 5238.66423361,\n",
       "       5238.66423361, 5238.66423361, 5238.66423361, 5238.66423361,\n",
       "       5238.66423361, 5238.66423361, 5238.66423361, 5238.66423361,\n",
       "       5238.66423361, 5238.66423361, 5238.66423361, 5238.66423361,\n",
       "       5238.66423361, 5238.66423361, 5238.66423361, 5238.66423361,\n",
       "       5238.66423361, 5238.66423361])"
      ]
     },
     "execution_count": 119,
     "metadata": {},
     "output_type": "execute_result"
    }
   ],
   "source": [
    "# Printing LR predictions for next n days\n",
    "rf_prediction = rf.predict(x_forecast)\n",
    "rf_prediction"
   ]
  },
  {
   "cell_type": "code",
   "execution_count": 120,
   "metadata": {},
   "outputs": [
    {
     "data": {
      "text/plain": [
       "Date\n",
       "2021-01-04    4040.649902\n",
       "2021-01-05    4008.909912\n",
       "2021-01-06    3966.489990\n",
       "2021-01-07    4025.929932\n",
       "2021-01-08    3930.000000\n",
       "                 ...     \n",
       "2021-12-23    5784.629883\n",
       "2021-12-27    5820.069824\n",
       "2021-12-28    5869.470215\n",
       "2021-12-29    5959.330078\n",
       "2021-12-30    5906.029785\n",
       "Name: Adj Close, Length: 251, dtype: float64"
      ]
     },
     "execution_count": 120,
     "metadata": {},
     "output_type": "execute_result"
    }
   ],
   "source": [
    "NVR['Adj Close']"
   ]
  },
  {
   "cell_type": "code",
   "execution_count": 121,
   "metadata": {},
   "outputs": [
    {
     "data": {
      "image/png": "[encoded data removed]",
      "text/plain": [
       "<Figure size 1152x648 with 1 Axes>"
      ]
     },
     "metadata": {},
     "output_type": "display_data"
    }
   ],
   "source": [
    "# visualizing the data\n",
    "plt.figure(figsize=(16,9))\n",
    "\n",
    "plt.plot(svr_prediction, label = 'SVM')\n",
    "plt.plot(rf_prediction, label = 'RandomForest')\n",
    "plt.plot(lr_prediction, label = 'LinearRegression')\n",
    "plt.title('NVR Adj. Close Price Prediction for next 30 days')\n",
    "plt.xlabel('Jan 04 2021 to Dec 31 2021')\n",
    "plt.ylabel('Adj. Close Price USD ($)')\n",
    "plt.legend(loc='upper left')\n",
    "plt.show()"
   ]
  },
  {
   "cell_type": "code",
   "execution_count": null,
   "metadata": {},
   "outputs": [],
   "source": []
  },
  {
   "cell_type": "code",
   "execution_count": null,
   "metadata": {},
   "outputs": [],
   "source": []
  }
 ],
 "metadata": {
  "kernelspec": {
   "display_name": "Python 3",
   "language": "python",
   "name": "python3"
  },
  "language_info": {
   "codemirror_mode": {
    "name": "ipython",
    "version": 3
   },
   "file_extension": ".py",
   "mimetype": "text/x-python",
   "name": "python",
   "nbconvert_exporter": "python",
   "pygments_lexer": "ipython3",
   "version": "3.8.3"
  }
 },
 "nbformat": 4,
 "nbformat_minor": 4
}
