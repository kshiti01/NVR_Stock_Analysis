{
 "cells": [
  {
   "cell_type": "markdown",
   "metadata": {},
   "source": [
    "# Import libraries"
   ]
  },
  {
   "cell_type": "code",
   "execution_count": 10,
   "metadata": {},
   "outputs": [],
   "source": [
    "import math\n",
    "\n",
    "from pandas_datareader import data as pdr\n",
    "import yfinance as yfin\n",
    "yfin.pdr_override()\n",
    "\n",
    "import numpy as np\n",
    "import pandas as pd\n",
    "from sklearn.preprocessing import MinMaxScaler\n",
    "from keras.models import Sequential\n",
    "from keras.layers import Dense, LSTM\n",
    "import matplotlib.pyplot as plt\n",
    "plt.style.use('fivethirtyeight')"
   ]
  },
  {
   "cell_type": "markdown",
   "metadata": {},
   "source": [
    "# Get the stock price"
   ]
  },
  {
   "cell_type": "code",
   "execution_count": 99,
   "metadata": {},
   "outputs": [
    {
     "name": "stdout",
     "output_type": "stream",
     "text": [
      "[*********************100%***********************]  1 of 1 completed\n"
     ]
    },
    {
     "data": {
      "text/html": [
       "<div>\n",
       "<style scoped>\n",
       "    .dataframe tbody tr th:only-of-type {\n",
       "        vertical-align: middle;\n",
       "    }\n",
       "\n",
       "    .dataframe tbody tr th {\n",
       "        vertical-align: top;\n",
       "    }\n",
       "\n",
       "    .dataframe thead th {\n",
       "        text-align: right;\n",
       "    }\n",
       "</style>\n",
       "<table border=\"1\" class=\"dataframe\">\n",
       "  <thead>\n",
       "    <tr style=\"text-align: right;\">\n",
       "      <th></th>\n",
       "      <th>Open</th>\n",
       "      <th>High</th>\n",
       "      <th>Low</th>\n",
       "      <th>Close</th>\n",
       "      <th>Adj Close</th>\n",
       "      <th>Volume</th>\n",
       "    </tr>\n",
       "    <tr>\n",
       "      <th>Date</th>\n",
       "      <th></th>\n",
       "      <th></th>\n",
       "      <th></th>\n",
       "      <th></th>\n",
       "      <th></th>\n",
       "      <th></th>\n",
       "    </tr>\n",
       "  </thead>\n",
       "  <tbody>\n",
       "    <tr>\n",
       "      <th>2017-01-03</th>\n",
       "      <td>1650.000000</td>\n",
       "      <td>1665.000000</td>\n",
       "      <td>1631.780029</td>\n",
       "      <td>1649.989990</td>\n",
       "      <td>1649.989990</td>\n",
       "      <td>37400</td>\n",
       "    </tr>\n",
       "    <tr>\n",
       "      <th>2017-01-04</th>\n",
       "      <td>1654.000000</td>\n",
       "      <td>1686.520020</td>\n",
       "      <td>1645.030029</td>\n",
       "      <td>1678.770020</td>\n",
       "      <td>1678.770020</td>\n",
       "      <td>22500</td>\n",
       "    </tr>\n",
       "    <tr>\n",
       "      <th>2017-01-05</th>\n",
       "      <td>1676.199951</td>\n",
       "      <td>1690.829956</td>\n",
       "      <td>1671.510010</td>\n",
       "      <td>1689.400024</td>\n",
       "      <td>1689.400024</td>\n",
       "      <td>24200</td>\n",
       "    </tr>\n",
       "    <tr>\n",
       "      <th>2017-01-06</th>\n",
       "      <td>1684.010010</td>\n",
       "      <td>1697.479980</td>\n",
       "      <td>1675.010010</td>\n",
       "      <td>1678.099976</td>\n",
       "      <td>1678.099976</td>\n",
       "      <td>23400</td>\n",
       "    </tr>\n",
       "    <tr>\n",
       "      <th>2017-01-09</th>\n",
       "      <td>1680.800049</td>\n",
       "      <td>1689.000000</td>\n",
       "      <td>1666.550049</td>\n",
       "      <td>1681.500000</td>\n",
       "      <td>1681.500000</td>\n",
       "      <td>17100</td>\n",
       "    </tr>\n",
       "    <tr>\n",
       "      <th>...</th>\n",
       "      <td>...</td>\n",
       "      <td>...</td>\n",
       "      <td>...</td>\n",
       "      <td>...</td>\n",
       "      <td>...</td>\n",
       "      <td>...</td>\n",
       "    </tr>\n",
       "    <tr>\n",
       "      <th>2021-12-23</th>\n",
       "      <td>5826.669922</td>\n",
       "      <td>5847.799805</td>\n",
       "      <td>5779.890137</td>\n",
       "      <td>5784.629883</td>\n",
       "      <td>5784.629883</td>\n",
       "      <td>7400</td>\n",
       "    </tr>\n",
       "    <tr>\n",
       "      <th>2021-12-27</th>\n",
       "      <td>5817.000000</td>\n",
       "      <td>5830.970215</td>\n",
       "      <td>5763.479980</td>\n",
       "      <td>5820.069824</td>\n",
       "      <td>5820.069824</td>\n",
       "      <td>12600</td>\n",
       "    </tr>\n",
       "    <tr>\n",
       "      <th>2021-12-28</th>\n",
       "      <td>5820.500000</td>\n",
       "      <td>5893.500000</td>\n",
       "      <td>5820.500000</td>\n",
       "      <td>5869.470215</td>\n",
       "      <td>5869.470215</td>\n",
       "      <td>7900</td>\n",
       "    </tr>\n",
       "    <tr>\n",
       "      <th>2021-12-29</th>\n",
       "      <td>5880.479980</td>\n",
       "      <td>5962.430176</td>\n",
       "      <td>5861.790039</td>\n",
       "      <td>5959.330078</td>\n",
       "      <td>5959.330078</td>\n",
       "      <td>7800</td>\n",
       "    </tr>\n",
       "    <tr>\n",
       "      <th>2021-12-30</th>\n",
       "      <td>5977.609863</td>\n",
       "      <td>5978.160156</td>\n",
       "      <td>5884.060059</td>\n",
       "      <td>5906.029785</td>\n",
       "      <td>5906.029785</td>\n",
       "      <td>8300</td>\n",
       "    </tr>\n",
       "  </tbody>\n",
       "</table>\n",
       "<p>1258 rows × 6 columns</p>\n",
       "</div>"
      ],
      "text/plain": [
       "                   Open         High          Low        Close    Adj Close  \\\n",
       "Date                                                                          \n",
       "2017-01-03  1650.000000  1665.000000  1631.780029  1649.989990  1649.989990   \n",
       "2017-01-04  1654.000000  1686.520020  1645.030029  1678.770020  1678.770020   \n",
       "2017-01-05  1676.199951  1690.829956  1671.510010  1689.400024  1689.400024   \n",
       "2017-01-06  1684.010010  1697.479980  1675.010010  1678.099976  1678.099976   \n",
       "2017-01-09  1680.800049  1689.000000  1666.550049  1681.500000  1681.500000   \n",
       "...                 ...          ...          ...          ...          ...   \n",
       "2021-12-23  5826.669922  5847.799805  5779.890137  5784.629883  5784.629883   \n",
       "2021-12-27  5817.000000  5830.970215  5763.479980  5820.069824  5820.069824   \n",
       "2021-12-28  5820.500000  5893.500000  5820.500000  5869.470215  5869.470215   \n",
       "2021-12-29  5880.479980  5962.430176  5861.790039  5959.330078  5959.330078   \n",
       "2021-12-30  5977.609863  5978.160156  5884.060059  5906.029785  5906.029785   \n",
       "\n",
       "            Volume  \n",
       "Date                \n",
       "2017-01-03   37400  \n",
       "2017-01-04   22500  \n",
       "2017-01-05   24200  \n",
       "2017-01-06   23400  \n",
       "2017-01-09   17100  \n",
       "...            ...  \n",
       "2021-12-23    7400  \n",
       "2021-12-27   12600  \n",
       "2021-12-28    7900  \n",
       "2021-12-29    7800  \n",
       "2021-12-30    8300  \n",
       "\n",
       "[1258 rows x 6 columns]"
      ]
     },
     "execution_count": 99,
     "metadata": {},
     "output_type": "execute_result"
    }
   ],
   "source": [
    "df = pdr.get_data_yahoo('NVR',start='2017-01-01',end='2021-12-31')\n",
    "df"
   ]
  },
  {
   "cell_type": "code",
   "execution_count": 100,
   "metadata": {},
   "outputs": [
    {
     "data": {
      "text/plain": [
       "(1258, 6)"
      ]
     },
     "execution_count": 100,
     "metadata": {},
     "output_type": "execute_result"
    }
   ],
   "source": [
    "df.shape"
   ]
  },
  {
   "cell_type": "code",
   "execution_count": 101,
   "metadata": {},
   "outputs": [
    {
     "data": {
      "image/png": "[encoded data removed]",
      "text/plain": [
       "<Figure size 1152x576 with 1 Axes>"
      ]
     },
     "metadata": {},
     "output_type": "display_data"
    }
   ],
   "source": [
    "#plotting the data\n",
    "plt.figure(figsize=(16,8))\n",
    "plt.title('Close Price History')\n",
    "plt.plot(df['Close'])\n",
    "plt.xlabel('Date',fontsize=18)\n",
    "plt.ylabel('Close Price USD ($)', fontsize=18)\n",
    "plt.show()"
   ]
  },
  {
   "cell_type": "code",
   "execution_count": 102,
   "metadata": {},
   "outputs": [
    {
     "data": {
      "text/plain": [
       "1007"
      ]
     },
     "execution_count": 102,
     "metadata": {},
     "output_type": "execute_result"
    }
   ],
   "source": [
    "# new df with only Close column\n",
    "data = df.filter(['Close'])\n",
    "\n",
    "# Converting df to numpy array\n",
    "dataset = data.values\n",
    "\n",
    "# Getting no. of rows to train LSTM model on\n",
    "training_data_len = math.ceil(len(dataset)*.8)\n",
    "training_data_len"
   ]
  },
  {
   "cell_type": "code",
   "execution_count": 103,
   "metadata": {},
   "outputs": [
    {
     "data": {
      "text/plain": [
       "array([[0.        ],\n",
       "       [0.00667852],\n",
       "       [0.00914526],\n",
       "       ...,\n",
       "       [0.97914765],\n",
       "       [1.        ],\n",
       "       [0.98763145]])"
      ]
     },
     "execution_count": 103,
     "metadata": {},
     "output_type": "execute_result"
    }
   ],
   "source": [
    "# Scaling the data\n",
    "scaler = MinMaxScaler(feature_range=(0,1))\n",
    "scaled_data = scaler.fit_transform(dataset)\n",
    "scaled_data"
   ]
  },
  {
   "cell_type": "code",
   "execution_count": 104,
   "metadata": {},
   "outputs": [
    {
     "name": "stdout",
     "output_type": "stream",
     "text": [
      "[array([0.        , 0.00667852, 0.00914526, 0.00652304, 0.00731203,\n",
      "       0.00950957, 0.00946085, 0.01244738, 0.01160503, 0.00675741,\n",
      "       0.00858136, 0.00546953, 0.00542078, 0.00518873, 0.01160503,\n",
      "       0.05351631, 0.05841497, 0.04873368, 0.05263914, 0.04826957,\n",
      "       0.04802358, 0.05221449, 0.05440739, 0.05336547, 0.05239318,\n",
      "       0.05565585, 0.05456985, 0.05880716, 0.05903224, 0.05437493,\n",
      "       0.05646342, 0.05739393, 0.05716884, 0.06316744, 0.06345983,\n",
      "       0.06149666, 0.06464794, 0.07066744, 0.06613077, 0.07608357,\n",
      "       0.07211545, 0.07324323, 0.07727401, 0.07757802, 0.08489234,\n",
      "       0.08168536, 0.09097217, 0.08498284, 0.08238385, 0.08284563,\n",
      "       0.09475931, 0.09492406, 0.09352012, 0.08986759, 0.09006716,\n",
      "       0.09337395, 0.09383109, 0.09657161, 0.0951445 , 0.0979338 ])]\n",
      "[0.10399269573487863]\n",
      "\n",
      "[array([0.        , 0.00667852, 0.00914526, 0.00652304, 0.00731203,\n",
      "       0.00950957, 0.00946085, 0.01244738, 0.01160503, 0.00675741,\n",
      "       0.00858136, 0.00546953, 0.00542078, 0.00518873, 0.01160503,\n",
      "       0.05351631, 0.05841497, 0.04873368, 0.05263914, 0.04826957,\n",
      "       0.04802358, 0.05221449, 0.05440739, 0.05336547, 0.05239318,\n",
      "       0.05565585, 0.05456985, 0.05880716, 0.05903224, 0.05437493,\n",
      "       0.05646342, 0.05739393, 0.05716884, 0.06316744, 0.06345983,\n",
      "       0.06149666, 0.06464794, 0.07066744, 0.06613077, 0.07608357,\n",
      "       0.07211545, 0.07324323, 0.07727401, 0.07757802, 0.08489234,\n",
      "       0.08168536, 0.09097217, 0.08498284, 0.08238385, 0.08284563,\n",
      "       0.09475931, 0.09492406, 0.09352012, 0.08986759, 0.09006716,\n",
      "       0.09337395, 0.09383109, 0.09657161, 0.0951445 , 0.0979338 ]), array([0.00667852, 0.00914526, 0.00652304, 0.00731203, 0.00950957,\n",
      "       0.00946085, 0.01244738, 0.01160503, 0.00675741, 0.00858136,\n",
      "       0.00546953, 0.00542078, 0.00518873, 0.01160503, 0.05351631,\n",
      "       0.05841497, 0.04873368, 0.05263914, 0.04826957, 0.04802358,\n",
      "       0.05221449, 0.05440739, 0.05336547, 0.05239318, 0.05565585,\n",
      "       0.05456985, 0.05880716, 0.05903224, 0.05437493, 0.05646342,\n",
      "       0.05739393, 0.05716884, 0.06316744, 0.06345983, 0.06149666,\n",
      "       0.06464794, 0.07066744, 0.06613077, 0.07608357, 0.07211545,\n",
      "       0.07324323, 0.07727401, 0.07757802, 0.08489234, 0.08168536,\n",
      "       0.09097217, 0.08498284, 0.08238385, 0.08284563, 0.09475931,\n",
      "       0.09492406, 0.09352012, 0.08986759, 0.09006716, 0.09337395,\n",
      "       0.09383109, 0.09657161, 0.0951445 , 0.0979338 , 0.1039927 ])]\n",
      "[0.10399269573487863, 0.10602316903741227]\n",
      "\n"
     ]
    }
   ],
   "source": [
    "# Create training dataset\n",
    "train_data = scaled_data[0:training_data_len,:]\n",
    "\n",
    "# Split to X-train and y_train\n",
    "x_train = []\n",
    "y_train = []\n",
    "\n",
    "for i in range(60,len(train_data)):\n",
    "    x_train.append(train_data[i-60:i,0])\n",
    "    y_train.append(train_data[i,0])\n",
    "    if i<=61:\n",
    "        print(x_train)\n",
    "        print(y_train)\n",
    "        print()"
   ]
  },
  {
   "cell_type": "code",
   "execution_count": 105,
   "metadata": {},
   "outputs": [],
   "source": [
    "# Converting x_train and y_train to numpy arrays\n",
    "x_train, y_train = np.array(x_train),np.array(y_train)"
   ]
  },
  {
   "cell_type": "code",
   "execution_count": 106,
   "metadata": {},
   "outputs": [
    {
     "data": {
      "text/plain": [
       "(947, 60, 1)"
      ]
     },
     "execution_count": 106,
     "metadata": {},
     "output_type": "execute_result"
    }
   ],
   "source": [
    "# Reshaping the data for LSTM model\n",
    "x_train = np.reshape(x_train, (x_train.shape[0],60,1))\n",
    "x_train.shape"
   ]
  },
  {
   "cell_type": "code",
   "execution_count": 107,
   "metadata": {},
   "outputs": [],
   "source": [
    "# Building the model\n",
    "model = Sequential()"
   ]
  },
  {
   "cell_type": "code",
   "execution_count": 108,
   "metadata": {},
   "outputs": [],
   "source": [
    "model.add(LSTM(50,return_sequences=True,input_shape=(x_train.shape[1],1)))\n",
    "model.add(LSTM(50,return_sequences=False))\n",
    "model.add(Dense(25))\n",
    "model.add(Dense(1))"
   ]
  },
  {
   "cell_type": "code",
   "execution_count": 109,
   "metadata": {},
   "outputs": [],
   "source": [
    "# Compiling the model\n",
    "model.compile(optimizer='adam',loss='mean_squared_error')"
   ]
  },
  {
   "cell_type": "code",
   "execution_count": 110,
   "metadata": {},
   "outputs": [
    {
     "name": "stdout",
     "output_type": "stream",
     "text": [
      "947/947 [==============================] - 14s 15ms/step - loss: 0.0031\n"
     ]
    },
    {
     "data": {
      "text/plain": [
       "<tensorflow.python.keras.callbacks.History at 0x7ff43c649c70>"
      ]
     },
     "execution_count": 110,
     "metadata": {},
     "output_type": "execute_result"
    }
   ],
   "source": [
    "# training\n",
    "model.fit(x_train, y_train, batch_size=1, epochs=1)"
   ]
  },
  {
   "cell_type": "code",
   "execution_count": 111,
   "metadata": {},
   "outputs": [],
   "source": [
    "# Creating the test dataset\n",
    "test_data=scaled_data[training_data_len -60:,:]\n",
    "\n",
    "x_test=[]\n",
    "y_test=dataset[training_data_len:,:]\n",
    "\n",
    "for i in range(60, len(test_data)):\n",
    "    x_test.append(test_data[i-60:i,0])  "
   ]
  },
  {
   "cell_type": "code",
   "execution_count": 112,
   "metadata": {},
   "outputs": [],
   "source": [
    "# Converting the data to np.array\n",
    "x_test = np.array(x_test)"
   ]
  },
  {
   "cell_type": "code",
   "execution_count": 113,
   "metadata": {},
   "outputs": [],
   "source": [
    "# Reshaping the data for LSTM\n",
    "x_test = np.reshape(x_test,(x_test.shape[0],x_test.shape[1],1))"
   ]
  },
  {
   "cell_type": "code",
   "execution_count": 114,
   "metadata": {},
   "outputs": [],
   "source": [
    "# Getting the predictions from the model\n",
    "predictions = model.predict(x_test)\n",
    "predictions = scaler.inverse_transform(predictions)"
   ]
  },
  {
   "cell_type": "code",
   "execution_count": 115,
   "metadata": {},
   "outputs": [
    {
     "data": {
      "text/plain": [
       "69.88197989292829"
      ]
     },
     "execution_count": 115,
     "metadata": {},
     "output_type": "execute_result"
    }
   ],
   "source": [
    "# Getting the rmse (good measure to see stdv of residuals, better fit)?????????????????\n",
    "rmse = np.sqrt(np.mean(predictions-y_test)**2)\n",
    "rmse"
   ]
  },
  {
   "cell_type": "code",
   "execution_count": 116,
   "metadata": {},
   "outputs": [
    {
     "name": "stderr",
     "output_type": "stream",
     "text": [
      "<ipython-input-116-22cb77406f5b>:4: SettingWithCopyWarning: \n",
      "A value is trying to be set on a copy of a slice from a DataFrame.\n",
      "Try using .loc[row_indexer,col_indexer] = value instead\n",
      "\n",
      "See the caveats in the documentation: https://pandas.pydata.org/pandas-docs/stable/user_guide/indexing.html#returning-a-view-versus-a-copy\n",
      "  valid['Predictions']=predictions\n",
      "<ipython-input-116-22cb77406f5b>:13: MatplotlibDeprecationWarning: Unrecognized location 'lower_right'. Falling back on 'best'; valid locations are\n",
      "\tbest\n",
      "\tupper right\n",
      "\tupper left\n",
      "\tlower left\n",
      "\tlower right\n",
      "\tright\n",
      "\tcenter left\n",
      "\tcenter right\n",
      "\tlower center\n",
      "\tupper center\n",
      "\tcenter\n",
      "This will raise an exception in 3.3.\n",
      "  plt.legend(['Train','Valid','Predictions'],loc='lower_right')\n"
     ]
    },
    {
     "data": {
      "image/png": "[encoded data removed]",
      "text/plain": [
       "<Figure size 1152x576 with 1 Axes>"
      ]
     },
     "metadata": {},
     "output_type": "display_data"
    }
   ],
   "source": [
    "# plotting the data\n",
    "train = data[:training_data_len]\n",
    "valid=data[training_data_len:]\n",
    "valid['Predictions']=predictions\n",
    "\n",
    "#visualizing the data\n",
    "plt.figure(figsize=(16,8))\n",
    "plt.title('Model')\n",
    "plt.xlabel('Date',fontsize=18)\n",
    "plt.ylabel('Close Price USD ($)', fontsize=18)\n",
    "plt.plot(train['Close'])\n",
    "plt.plot(valid[['Close','Predictions']])\n",
    "plt.legend(['Train','Valid','Predictions'],loc='lower_right')\n",
    "plt.show()"
   ]
  },
  {
   "cell_type": "code",
   "execution_count": 117,
   "metadata": {},
   "outputs": [
    {
     "data": {
      "text/html": [
       "<div>\n",
       "<style scoped>\n",
       "    .dataframe tbody tr th:only-of-type {\n",
       "        vertical-align: middle;\n",
       "    }\n",
       "\n",
       "    .dataframe tbody tr th {\n",
       "        vertical-align: top;\n",
       "    }\n",
       "\n",
       "    .dataframe thead th {\n",
       "        text-align: right;\n",
       "    }\n",
       "</style>\n",
       "<table border=\"1\" class=\"dataframe\">\n",
       "  <thead>\n",
       "    <tr style=\"text-align: right;\">\n",
       "      <th></th>\n",
       "      <th>Close</th>\n",
       "      <th>Predictions</th>\n",
       "    </tr>\n",
       "    <tr>\n",
       "      <th>Date</th>\n",
       "      <th></th>\n",
       "      <th></th>\n",
       "    </tr>\n",
       "  </thead>\n",
       "  <tbody>\n",
       "    <tr>\n",
       "      <th>2021-01-04</th>\n",
       "      <td>4040.649902</td>\n",
       "      <td>4258.928223</td>\n",
       "    </tr>\n",
       "    <tr>\n",
       "      <th>2021-01-05</th>\n",
       "      <td>4008.909912</td>\n",
       "      <td>4242.707520</td>\n",
       "    </tr>\n",
       "    <tr>\n",
       "      <th>2021-01-06</th>\n",
       "      <td>3966.489990</td>\n",
       "      <td>4221.168945</td>\n",
       "    </tr>\n",
       "    <tr>\n",
       "      <th>2021-01-07</th>\n",
       "      <td>4025.929932</td>\n",
       "      <td>4194.555176</td>\n",
       "    </tr>\n",
       "    <tr>\n",
       "      <th>2021-01-08</th>\n",
       "      <td>3930.000000</td>\n",
       "      <td>4173.059082</td>\n",
       "    </tr>\n",
       "    <tr>\n",
       "      <th>...</th>\n",
       "      <td>...</td>\n",
       "      <td>...</td>\n",
       "    </tr>\n",
       "    <tr>\n",
       "      <th>2021-12-23</th>\n",
       "      <td>5784.629883</td>\n",
       "      <td>5845.693848</td>\n",
       "    </tr>\n",
       "    <tr>\n",
       "      <th>2021-12-27</th>\n",
       "      <td>5820.069824</td>\n",
       "      <td>5844.695801</td>\n",
       "    </tr>\n",
       "    <tr>\n",
       "      <th>2021-12-28</th>\n",
       "      <td>5869.470215</td>\n",
       "      <td>5849.437012</td>\n",
       "    </tr>\n",
       "    <tr>\n",
       "      <th>2021-12-29</th>\n",
       "      <td>5959.330078</td>\n",
       "      <td>5861.467773</td>\n",
       "    </tr>\n",
       "    <tr>\n",
       "      <th>2021-12-30</th>\n",
       "      <td>5906.029785</td>\n",
       "      <td>5884.854004</td>\n",
       "    </tr>\n",
       "  </tbody>\n",
       "</table>\n",
       "<p>251 rows × 2 columns</p>\n",
       "</div>"
      ],
      "text/plain": [
       "                  Close  Predictions\n",
       "Date                                \n",
       "2021-01-04  4040.649902  4258.928223\n",
       "2021-01-05  4008.909912  4242.707520\n",
       "2021-01-06  3966.489990  4221.168945\n",
       "2021-01-07  4025.929932  4194.555176\n",
       "2021-01-08  3930.000000  4173.059082\n",
       "...                 ...          ...\n",
       "2021-12-23  5784.629883  5845.693848\n",
       "2021-12-27  5820.069824  5844.695801\n",
       "2021-12-28  5869.470215  5849.437012\n",
       "2021-12-29  5959.330078  5861.467773\n",
       "2021-12-30  5906.029785  5884.854004\n",
       "\n",
       "[251 rows x 2 columns]"
      ]
     },
     "execution_count": 117,
     "metadata": {},
     "output_type": "execute_result"
    }
   ],
   "source": [
    "# Show the valid and predicted prices\n",
    "valid"
   ]
  },
  {
   "cell_type": "code",
   "execution_count": 118,
   "metadata": {},
   "outputs": [
    {
     "name": "stdout",
     "output_type": "stream",
     "text": [
      "[*********************100%***********************]  1 of 1 completed\n",
      "[[5906.2974]]\n"
     ]
    }
   ],
   "source": [
    "# Get the stock price\n",
    "nvr_quote = pdr.get_data_yahoo('NVR',start='2017-01-01',end='2021-12-31')\n",
    "\n",
    "# Creating a new df\n",
    "new_df = nvr_quote.filter(['Close'])\n",
    "\n",
    "# Getting the last 60 days closing price values and converting the df to an array\n",
    "last_60_days = new_df[-60:].values\n",
    "\n",
    "# Scaling the data between 0 and 1\n",
    "last_60_days_scaled = scaler.transform(last_60_days)\n",
    "\n",
    "# Creating an empty list\n",
    "X_test = []\n",
    "\n",
    "# Appending past 60 days\n",
    "X_test.append(last_60_days_scaled)\n",
    "\n",
    "# Convert the X_test data to a np.array\n",
    "X_test = np.array(X_test)\n",
    "\n",
    "# Reshaping the data\n",
    "#########number of time steps, number of features\n",
    "X_test = np.reshape(X_test,(X_test.shape[0], x_test.shape[1],1))\n",
    "\n",
    "# Getting the predicted scaled prcies\n",
    "pred_price = model.predict(X_test)\n",
    "\n",
    "# undoing the scaling\n",
    "pred_price = scaler.inverse_transform(pred_price)\n",
    "print(pred_price)"
   ]
  },
  {
   "cell_type": "code",
   "execution_count": 119,
   "metadata": {},
   "outputs": [
    {
     "name": "stdout",
     "output_type": "stream",
     "text": [
      "[*********************100%***********************]  1 of 1 completed\n",
      "Date\n",
      "2021-12-30    5906.029785\n",
      "Name: Close, dtype: float64\n",
      "[*********************100%***********************]  1 of 1 completed\n",
      "Date\n",
      "2021-12-31    5908.870117\n",
      "Name: Close, dtype: float64\n"
     ]
    }
   ],
   "source": [
    "# getting the actual price\n",
    "nvr_quote2 = pdr.get_data_yahoo('NVR',start='2021-12-30',end='2021-12-31')\n",
    "print(nvr_quote2['Close'])\n",
    "nvr_quote3 = pdr.get_data_yahoo('NVR',start='2021-12-31',end='2022-01-01')\n",
    "print(nvr_quote3['Close'])"
   ]
  },
  {
   "cell_type": "code",
   "execution_count": null,
   "metadata": {},
   "outputs": [],
   "source": []
  }
 ],
 "metadata": {
  "kernelspec": {
   "display_name": "Python 3",
   "language": "python",
   "name": "python3"
  },
  "language_info": {
   "codemirror_mode": {
    "name": "ipython",
    "version": 3
   },
   "file_extension": ".py",
   "mimetype": "text/x-python",
   "name": "python",
   "nbconvert_exporter": "python",
   "pygments_lexer": "ipython3",
   "version": "3.8.3"
  }
 },
 "nbformat": 4,
 "nbformat_minor": 4
}
